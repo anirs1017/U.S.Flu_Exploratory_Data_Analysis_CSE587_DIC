{
 "cells": [
  {
   "cell_type": "markdown",
   "metadata": {},
   "source": [
    "# DIC Lab1 Part 3\n",
    "\n",
    "Submitted by asinha6@buffalo.edu and sdhar2@buffalo.edu"
   ]
  },
  {
   "cell_type": "markdown",
   "metadata": {},
   "source": [
    "# Twitter Application Development"
   ]
  },
  {
   "cell_type": "markdown",
   "metadata": {},
   "source": [
    "##### shiny app link - https://sdhar2.shinyapps.io/DICLab1/"
   ]
  },
  {
   "cell_type": "code",
   "execution_count": 3,
   "metadata": {},
   "outputs": [],
   "source": [
    "library(rtweet)\n",
    "library(revgeo)\n",
    "library(maps)\n",
    "library(ggplot2)\n",
    "library(GEOmap)\n",
    "library(fiftystater)\n",
    "library(data.table)\n",
    "library(dplyr)"
   ]
  },
  {
   "cell_type": "markdown",
   "metadata": {},
   "source": [
    "##### Create a valid list of states in USA"
   ]
  },
  {
   "cell_type": "code",
   "execution_count": 4,
   "metadata": {},
   "outputs": [],
   "source": [
    "lst_valid_states <- table(fifty_states$id)\n",
    "lst_valid_states <- as.data.table(lst_valid_states)\n",
    "lst_valid_states <- lst_valid_states[, c(V1)]\n",
    "lst_valid_states <- paste(lst_valid_states, collapse = '|')"
   ]
  },
  {
   "cell_type": "markdown",
   "metadata": {},
   "source": [
    "##### Accessing Twitter APIs require these keys and tokens"
   ]
  },
  {
   "cell_type": "markdown",
   "metadata": {},
   "source": [
    "For this project, We have used 'rtweet' package. This package is used to collect tweets via Twitter's REST Application Program Interfaces (API). The documentation for this API can be found at the following URL: <https://developer.twitter.com/en/docs>.\n",
    "\n",
    "For accessing the Twitter API, We first created a developer account on Twitter. After successfully getting access to a developer account, We created an APP which is required if you want to access and use twitter data in any of your application. After creating an APP in my twitter developer account, We got the consumer key and secret. The last step of this task requires generating two more things that are needed to access the twitter APIs viz. access token and access secret. We generated these two for the App which we created in the previous step.\n"
   ]
  },
  {
   "cell_type": "code",
   "execution_count": null,
   "metadata": {},
   "outputs": [],
   "source": [
    "consumer_key <- \"z1BD0Ve29tjorbsAhww9cptHh\"\n",
    "consumer_secret <- \"MabrL9Fj2an40weqifg9e1hYtLLyHStzMYuK8ijc2WluiSjdMX\"\n",
    "access_token <- \"1095681775098048512-UVirSgwpToXdBB25V6lLnEUKpk7t3x\"\n",
    "access_secret <- \"Zj8BamGbYQaGQjsUO4Oi7in9vsaVBgARqf1BeEIofONeV\""
   ]
  },
  {
   "cell_type": "markdown",
   "metadata": {},
   "source": [
    "##### Sends request to generate OAuth 1.0 tokens"
   ]
  },
  {
   "cell_type": "code",
   "execution_count": null,
   "metadata": {},
   "outputs": [],
   "source": [
    "create_token(\n",
    "  app = \"flu_map\",\n",
    "  consumer_key = consumer_key,\n",
    "  consumer_secret = consumer_secret,\n",
    "  access_token = access_token,\n",
    "  access_secret = access_secret)"
   ]
  },
  {
   "cell_type": "markdown",
   "metadata": {},
   "source": [
    "The next task was to select the relevant keywords associated with “flu” or other terms that can be an important influencer to capture a trend. We did some research on the topic of \"flu\" and came up with the following keywords:\n",
    "\n",
    "###### flu, Influenza, influenzas, grippe, Epidemic, Epidemics, Pandemic, contagious, outbreaks, Antiviral, Antivirals, arbidol, orthomyxovirus"
   ]
  },
  {
   "cell_type": "markdown",
   "metadata": {},
   "source": [
    "#### Task 4"
   ]
  },
  {
   "cell_type": "code",
   "execution_count": 5,
   "metadata": {},
   "outputs": [],
   "source": [
    "keywords <- \"flu OR Influenza OR influenzas OR grippe OR Epidemic OR Epidemics OR Pandemics OR contagious OR outbreaks OR Antiviral OR Antivirals OR arbidol OR orthomyxovirus\""
   ]
  },
  {
   "cell_type": "markdown",
   "metadata": {},
   "source": [
    "##### search for tweets sent from the US"
   ]
  },
  {
   "cell_type": "code",
   "execution_count": null,
   "metadata": {},
   "outputs": [],
   "source": [
    "rt <- search_tweets(keywords, include_rts = FALSE, retryonratelimit = TRUE, geocode = lookup_coords(\"usa\"), n = 100000)"
   ]
  },
  {
   "cell_type": "markdown",
   "metadata": {},
   "source": [
    "##### create lat/lng variables using all available tweet and profile geo-location data"
   ]
  },
  {
   "cell_type": "code",
   "execution_count": null,
   "metadata": {},
   "outputs": [],
   "source": [
    "rt <- lat_lng(rt)"
   ]
  },
  {
   "cell_type": "markdown",
   "metadata": {},
   "source": [
    "##### saving all the tweets data into a csv file ( \"full_data_tweets.csv\" )"
   ]
  },
  {
   "cell_type": "code",
   "execution_count": null,
   "metadata": {},
   "outputs": [],
   "source": [
    "save_as_csv(rt, paste(\"full_data_tweets.csv\"), prepend_ids = TRUE, na = \"\",fileEncoding = \"UTF-8\")"
   ]
  },
  {
   "cell_type": "markdown",
   "metadata": {},
   "source": [
    "##### filtering data - neglect tweets that do not have lat long information"
   ]
  },
  {
   "cell_type": "code",
   "execution_count": null,
   "metadata": {},
   "outputs": [],
   "source": [
    "rt_DF <- rt[!is.na(rt$lat),]"
   ]
  },
  {
   "cell_type": "markdown",
   "metadata": {},
   "source": [
    "##### this will get the state from the lat, lng info and create the list of records\n",
    "##### get the states from the lat and long coordinates using the revgeo library"
   ]
  },
  {
   "cell_type": "code",
   "execution_count": null,
   "metadata": {},
   "outputs": [],
   "source": [
    "rt_DF$region <- \"\"\n",
    "\n",
    "i <- 1\n",
    "while(i <= nrow(rt_DF)) {\n",
    "  temp <- revgeo(longitude=rt_DF[i,]$lng, latitude=rt_DF[i,]$lat, output = 'frame', item = 'state') \n",
    "  rt_DF[i,]$region <- as.character(tolower(temp$state))\n",
    "  i <- i + 1\n",
    "}"
   ]
  },
  {
   "cell_type": "markdown",
   "metadata": {},
   "source": [
    "##### saving all the filtered tweets data into a csv file"
   ]
  },
  {
   "cell_type": "code",
   "execution_count": null,
   "metadata": {},
   "outputs": [],
   "source": [
    "save_as_csv(rt_DF, paste(\"state_data_tweets.csv\"), prepend_ids = TRUE, na = \"\",\n",
    "            fileEncoding = \"UTF-8\")"
   ]
  },
  {
   "cell_type": "markdown",
   "metadata": {},
   "source": [
    "##### filtering data - neglect tweets that do not belong to US states"
   ]
  },
  {
   "cell_type": "code",
   "execution_count": null,
   "metadata": {},
   "outputs": [],
   "source": [
    "rt_state_DF <- dplyr::filter(rt_DF, grepl(lst_valid_states, region))"
   ]
  },
  {
   "cell_type": "markdown",
   "metadata": {},
   "source": [
    "##### saving all the filtered tweets data into a csv file  ( \"filtered_state_data_tweets.csv\" )"
   ]
  },
  {
   "cell_type": "code",
   "execution_count": null,
   "metadata": {},
   "outputs": [],
   "source": [
    "save_as_csv(rt_state_DF, paste(\"filtered_state_data_tweets.csv\"), prepend_ids = TRUE, na = \"\",\n",
    "            fileEncoding = \"UTF-8\")"
   ]
  },
  {
   "cell_type": "markdown",
   "metadata": {},
   "source": [
    "##### Plot heat map for the filtered data - run this to check the final output"
   ]
  },
  {
   "cell_type": "code",
   "execution_count": 12,
   "metadata": {},
   "outputs": [
    {
     "data": {},
     "metadata": {},
     "output_type": "display_data"
    },
    {
     "data": {
      "image/png": "[encoded data removed]",
      "text/plain": [
       "plot without title"
      ]
     },
     "metadata": {},
     "output_type": "display_data"
    }
   ],
   "source": [
    "rt_state_DF <- read.csv(\"filtered_state_data_tweets.csv\", header=TRUE)\n",
    "\n",
    "df_states <- table(fifty_states$id)\n",
    "df_states <- as.data.frame(df_states)\n",
    "x_header <- c(\"region\",\"count\")\n",
    "colnames(df_states) <- x_header\n",
    "\n",
    "# get the count for each state\n",
    "state_counts <- table(rt_state_DF$region)\n",
    "state_counts <- as.data.frame(state_counts)\n",
    "x_header <- c(\"region\",\"count\")\n",
    "colnames(state_counts) <- x_header\n",
    "\n",
    "flu_map <- merge(df_states, state_counts, by=\"region\", all = T)\n",
    "flu_map[is.na(flu_map)] <- 0\n",
    "\n",
    "# plotting map\n",
    "fifty_states$region <- fifty_states$id\n",
    "\n",
    "flu_map <- merge(fifty_states, flu_map, by=\"region\", all.flu_map = T)\n",
    "flu_map <- flu_map[order(flu_map$order),]\n",
    "\n",
    "max_cnt <- max(flu_map$count.y)\n",
    "cnt_factor <- as.integer(max_cnt/10)\n",
    "\n",
    "labels_map <- c()\n",
    "\n",
    "for (variable in 1:10) {\n",
    "  labels_map[variable] <- paste((variable - 1)*cnt_factor,cnt_factor*variable,sep=\" - \")\n",
    "}\n",
    "\n",
    "plot_theme <- theme(panel.background = element_blank(),\n",
    "                    plot.margin = unit(c(1,1,1,1), \"cm\"),\n",
    "                    plot.title=element_text(size=18, \n",
    "                                            face=\"bold\", \n",
    "                                            color=\"black\",\n",
    "                                            hjust=0.5,\n",
    "                                            lineheight=1.0),  # title\n",
    "                    plot.subtitle=element_text(size=16, \n",
    "                                               color = \"black\",\n",
    "                                               face=\"bold\",\n",
    "                                               hjust=0.5),  # subtitle\n",
    "                    plot.caption=element_text(size=15),  # caption\n",
    "                    axis.title.x=element_blank(),\n",
    "                    axis.title.y = element_blank(),\n",
    "                    axis.text.x = element_blank(),  # X axis text\n",
    "                    axis.text.y=element_blank(),\n",
    "                    axis.line = element_blank(),\n",
    "                    legend.title = element_text(size=14),\n",
    "                    legend.key = element_blank(),\n",
    "                    axis.ticks.x = element_blank(),\n",
    "                    axis.ticks.y = element_blank(),\n",
    "                    legend.text = element_text(size=10))  # Y axis text\n",
    "\n",
    "fluHeatmap <- ggplot(flu_map, aes(x=long, y=lat, group=group)) + \n",
    "  geom_polygon(aes(fill=flu_map$count.y), data=fifty_states) +\n",
    "  geom_path() +\n",
    "  annotate(\"text\", x=-120, y=31.5, label=\"Alaska\") +\n",
    "  annotate(\"text\", x = -106.5, y = 28, label = \"Hawaii\") +\n",
    "  labs(title = \"Twitter Trends - 2019 Influenza Season \n",
    "(#All)\", y = \"\", x = \"\") +\n",
    "  plot_theme + guides(fill=guide_legend(title = \"Tweet Counts\")) +\n",
    "  scale_fill_gradientn(colors=rev(rainbow(n = 10, start=0, end=0.5)), breaks = seq(cnt_factor, max_cnt, by=cnt_factor), na.value=\"grey90\", \n",
    "                       labels = labels_map) +\n",
    "  coord_map()\n",
    "\n",
    "fluHeatmap\n"
   ]
  },
  {
   "cell_type": "markdown",
   "metadata": {},
   "source": [
    "![alt text](images/CDCHeatMap.png \"CDCHeatMap\")"
   ]
  },
  {
   "cell_type": "markdown",
   "metadata": {},
   "source": [
    "## Analysis - CDC Heatmap vs Twitter Heatmap (All keywords)"
   ]
  },
  {
   "cell_type": "markdown",
   "metadata": {},
   "source": [
    "All represents all possible relevant keywords associated with flu, influenza, etc. viz. \n",
    "\n",
    "##### #flu, #Influenza, #influenzas, #grippe, #Epidemic, #Epidemics, #Pandemics, #contagious, #outbreaks, #Antiviral, #Antivirals, #arbidol, #orthomyxovirus \n",
    "\n",
    "to name a few. \n",
    "\n",
    "The twitter data was collected over a period of 3 weeks in 2019, starting from February 1st week to March 1st week. \n",
    "\n",
    "While collecting the Tweets from the various states based on all possible keywords for 2019, it appeared that California had the most activity and resulted in 480 tweets appearing from geolocations based in California.\n",
    "\n",
    "Texas was second in place after California with 390 tweets. \n",
    "\n",
    "The state of New York had 256 geolocations having twitter activity with those hashtags and keywords. \n",
    "\n",
    "Comparing the all keywords - Twitter activity heatmap of USA with that of CDC's website of Week 4 of 2019, ending January 26, it is pretty evident that the maximum concurrence occured between the New York State on both heatmaps. In both heatmaps, NY lies in the moderate region of activity. \n",
    "\n",
    "Texas too comes very close to the CDC's heatmap, however there was no activity in California in Week 4 of 2019, contrary to the Twitter heatmap. "
   ]
  },
  {
   "cell_type": "markdown",
   "metadata": {},
   "source": [
    "#### Task 5\n",
    "\n",
    "###### Keywords: Influenza, Vaccine"
   ]
  },
  {
   "cell_type": "code",
   "execution_count": null,
   "metadata": {},
   "outputs": [],
   "source": [
    "keywords <- \"flu OR Vaccine\""
   ]
  },
  {
   "cell_type": "markdown",
   "metadata": {},
   "source": [
    "##### search for tweets sent from the US"
   ]
  },
  {
   "cell_type": "code",
   "execution_count": null,
   "metadata": {},
   "outputs": [],
   "source": [
    "rt <- search_tweets(keywords, include_rts = FALSE, retryonratelimit = TRUE, geocode = lookup_coords(\"usa\"), n = 100000)"
   ]
  },
  {
   "cell_type": "markdown",
   "metadata": {},
   "source": [
    "##### create lat/lng variables using all available tweet and profile geo-location data"
   ]
  },
  {
   "cell_type": "code",
   "execution_count": null,
   "metadata": {},
   "outputs": [],
   "source": [
    "rt <- lat_lng(rt)"
   ]
  },
  {
   "cell_type": "markdown",
   "metadata": {},
   "source": [
    "##### saving all the tweets data into a csv file"
   ]
  },
  {
   "cell_type": "code",
   "execution_count": null,
   "metadata": {},
   "outputs": [],
   "source": [
    "save_as_csv(rt, paste(\"full_data_tweets_task5.csv\"), prepend_ids = TRUE, na = \"\",fileEncoding = \"UTF-8\")"
   ]
  },
  {
   "cell_type": "markdown",
   "metadata": {},
   "source": [
    "##### filtering data - neglect tweets that do not have lat long information"
   ]
  },
  {
   "cell_type": "code",
   "execution_count": null,
   "metadata": {},
   "outputs": [],
   "source": [
    "rt_DF <- rt[!is.na(rt$lat),]"
   ]
  },
  {
   "cell_type": "markdown",
   "metadata": {},
   "source": [
    "##### this will get the state from the lat, lng info and create the list of records\n",
    "##### get the states from the lat and long coordinates using the revgeo library"
   ]
  },
  {
   "cell_type": "code",
   "execution_count": null,
   "metadata": {},
   "outputs": [],
   "source": [
    "rt_DF$region <- \"\"\n",
    "\n",
    "i <- 1\n",
    "while(i <= nrow(rt_DF)) {\n",
    "  temp <- revgeo(longitude=rt_DF[i,]$lng, latitude=rt_DF[i,]$lat, output = 'frame', item = 'state') \n",
    "  rt_DF[i,]$region <- as.character(tolower(temp$state))\n",
    "  i <- i + 1\n",
    "}"
   ]
  },
  {
   "cell_type": "markdown",
   "metadata": {},
   "source": [
    "##### saving all the filtered tweets data into a csv file"
   ]
  },
  {
   "cell_type": "code",
   "execution_count": null,
   "metadata": {},
   "outputs": [],
   "source": [
    "save_as_csv(rt_DF, paste(\"state_data_tweets_task5.csv\"), prepend_ids = TRUE, na = \"\",\n",
    "            fileEncoding = \"UTF-8\")"
   ]
  },
  {
   "cell_type": "markdown",
   "metadata": {},
   "source": [
    "##### filtering data - neglect tweets that do not belong to US states"
   ]
  },
  {
   "cell_type": "code",
   "execution_count": null,
   "metadata": {},
   "outputs": [],
   "source": [
    "rt_state_DF <- dplyr::filter(rt_DF, grepl(lst_valid_states, region))"
   ]
  },
  {
   "cell_type": "markdown",
   "metadata": {},
   "source": [
    "##### saving all the filtered tweets data into a csv file"
   ]
  },
  {
   "cell_type": "code",
   "execution_count": null,
   "metadata": {},
   "outputs": [],
   "source": [
    "save_as_csv(rt_state_DF, paste(\"filtered_state_data_tweets_task5.csv\"), prepend_ids = TRUE, na = \"\",\n",
    "            fileEncoding = \"UTF-8\")"
   ]
  },
  {
   "cell_type": "markdown",
   "metadata": {},
   "source": [
    "##### Plot heat map for the filtered data - run this to check the final output"
   ]
  },
  {
   "cell_type": "code",
   "execution_count": 20,
   "metadata": {},
   "outputs": [
    {
     "data": {},
     "metadata": {},
     "output_type": "display_data"
    },
    {
     "data": {
      "image/png": "[encoded data removed]",
      "text/plain": [
       "plot without title"
      ]
     },
     "metadata": {},
     "output_type": "display_data"
    }
   ],
   "source": [
    "rt_state_DF <- read.csv(\"filtered_state_data_tweets_task5.csv\", header=TRUE)\n",
    "\n",
    "df_states <- table(fifty_states$id)\n",
    "df_states <- as.data.frame(df_states)\n",
    "x_header <- c(\"region\",\"count\")\n",
    "colnames(df_states) <- x_header\n",
    "\n",
    "# get the count for each state\n",
    "state_counts1 <- table(rt_state_DF$region)\n",
    "state_counts1 <- as.data.frame(state_counts1)\n",
    "x_header <- c(\"region\",\"count\")\n",
    "colnames(state_counts1) <- x_header\n",
    "\n",
    "flu_map1 <- merge(df_states, state_counts1, by=\"region\", all = T)\n",
    "flu_map1[is.na(flu_map1)] <- 0\n",
    "\n",
    "# plotting map\n",
    "fifty_states$region <- fifty_states$id\n",
    "\n",
    "flu_map1 <- merge(fifty_states, flu_map1, by=\"region\", all.flu_map1 = T)\n",
    "flu_map1 <- flu_map1[order(flu_map1$order),]\n",
    "\n",
    "max_cnt1 <- max(flu_map1$count.y)\n",
    "cnt_factor1 <- as.integer(max_cnt1/10)\n",
    "\n",
    "labels_map1 <- c()\n",
    "\n",
    "for (variable in 0:10) {\n",
    "  labels_map1[variable] <- paste((variable - 1)*cnt_factor1,cnt_factor1*variable,sep=\" - \")\n",
    "}\n",
    "\n",
    "plot_theme <- theme(panel.background = element_blank(),\n",
    "                    plot.margin = unit(c(1,1,1,1), \"cm\"),\n",
    "                    plot.title=element_text(size=18, \n",
    "                                            face=\"bold\", \n",
    "                                            color=\"black\",\n",
    "                                            hjust=0.5,\n",
    "                                            lineheight=1.0),  # title\n",
    "                    plot.subtitle=element_text(size=16, \n",
    "                                               color = \"black\",\n",
    "                                               face=\"bold\",\n",
    "                                               hjust=0.5),  # subtitle\n",
    "                    plot.caption=element_text(size=15),  # caption\n",
    "                    axis.title.x=element_blank(),\n",
    "                    axis.title.y = element_blank(),\n",
    "                    axis.text.x = element_blank(),  # X axis text\n",
    "                    axis.text.y=element_blank(),\n",
    "                    axis.line = element_blank(),\n",
    "                    legend.title = element_text(size=14),\n",
    "                    legend.key = element_blank(),\n",
    "                    axis.ticks.x = element_blank(),\n",
    "                    axis.ticks.y = element_blank(),\n",
    "                    legend.text = element_text(size=10))  # Y axis text\n",
    "\n",
    "fluHeatmap1 <- ggplot(flu_map1, aes(x=long, y=lat, group=group)) + \n",
    "  geom_polygon(aes(fill=flu_map1$count.y), data=fifty_states) +\n",
    "  geom_path() +\n",
    "  annotate(\"text\", x=-120, y=31.5, label=\"Alaska\") +\n",
    "  annotate(\"text\", x = -106.5, y = 28, label = \"Hawaii\") +\n",
    "  labs(title = \"Twitter Trends - 2019 Influenza Season\n",
    "       (#flu, #Vaccine)\", y = \"\", x = \"\") +\n",
    "  plot_theme + guides(fill=guide_legend(title = \"Tweet Counts\")) +\n",
    "  scale_fill_gradientn(colors=rev(rainbow(n = 10, start=0, end=0.5)), breaks = seq(cnt_factor1, max_cnt1, by=cnt_factor1), na.value=\"grey90\", \n",
    "                       labels = labels_map1) +\n",
    "  coord_map()\n",
    "\n",
    "fluHeatmap1\n",
    "\n",
    "\n"
   ]
  },
  {
   "cell_type": "markdown",
   "metadata": {},
   "source": [
    "![alt text](images/CDCHeatMap.png \"CDCHeatMap\")"
   ]
  },
  {
   "cell_type": "markdown",
   "metadata": {},
   "source": [
    "## Analysis - CDC Heatmap vs Twitter Heatmap (Only 2 Keywords - flu & vaccine)"
   ]
  },
  {
   "cell_type": "markdown",
   "metadata": {},
   "source": [
    "Again, when the tweets were filtered out for only two keywords, viz. - \n",
    "\n",
    "##### #flu and #vaccine\n",
    "\n",
    "the maximum count of tweets reached 407, which happened again in the state of California. However, this is again in contrast to the heatmap from the CDC's website. Apparently, California has a extremely high number of active social media users on the topic of Flu [no pun intended]. \n",
    "\n",
    "Texas had the next highest activity with these keywords, resulting in 286 tweets appearing from geolocations in that state. Other states like Alaska, Kentucky, West Virginia, New Mexico, Colorado, Utah, Louisiana, Oklahoma, and other neighboring states of Texas which rather had a HIGH activity level of Influenza in the CDC heat map, didn't show much presence through Tweets pertaining to Influenza. \n",
    "\n",
    "State of New York fell in the LOW bracket of activity with these keywords on Twitter which was in the MODERATE bracket on CDC's site. \n"
   ]
  }
 ],
 "metadata": {
  "kernelspec": {
   "display_name": "R",
   "language": "R",
   "name": "ir"
  },
  "language_info": {
   "codemirror_mode": "r",
   "file_extension": ".r",
   "mimetype": "text/x-r-source",
   "name": "R",
   "pygments_lexer": "r",
   "version": "3.5.1"
  }
 },
 "nbformat": 4,
 "nbformat_minor": 2
}
